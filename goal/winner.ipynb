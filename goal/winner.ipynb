{
 "cells": [
  {
   "cell_type": "markdown",
   "metadata": {},
   "source": [
    "### Reading data and dropping unwanted columns"
   ]
  },
  {
   "cell_type": "code",
   "execution_count": 111,
   "metadata": {},
   "outputs": [
    {
     "data": {
      "text/html": [
       "<div>\n",
       "<style scoped>\n",
       "    .dataframe tbody tr th:only-of-type {\n",
       "        vertical-align: middle;\n",
       "    }\n",
       "\n",
       "    .dataframe tbody tr th {\n",
       "        vertical-align: top;\n",
       "    }\n",
       "\n",
       "    .dataframe thead th {\n",
       "        text-align: right;\n",
       "    }\n",
       "</style>\n",
       "<table border=\"1\" class=\"dataframe\">\n",
       "  <thead>\n",
       "    <tr style=\"text-align: right;\">\n",
       "      <th></th>\n",
       "      <th>Home Team</th>\n",
       "      <th>Away Team</th>\n",
       "      <th>Winner</th>\n",
       "    </tr>\n",
       "  </thead>\n",
       "  <tbody>\n",
       "    <tr>\n",
       "      <th>0</th>\n",
       "      <td>MAN UTD</td>\n",
       "      <td>SWANSEA</td>\n",
       "      <td>Away</td>\n",
       "    </tr>\n",
       "    <tr>\n",
       "      <th>1</th>\n",
       "      <td>WEST BROM</td>\n",
       "      <td>SUNDERLAND</td>\n",
       "      <td>Draw</td>\n",
       "    </tr>\n",
       "    <tr>\n",
       "      <th>2</th>\n",
       "      <td>LEICESTER CITY</td>\n",
       "      <td>EVERTON</td>\n",
       "      <td>Draw</td>\n",
       "    </tr>\n",
       "    <tr>\n",
       "      <th>3</th>\n",
       "      <td>WEST HAM</td>\n",
       "      <td>TOTTENHAM</td>\n",
       "      <td>Away</td>\n",
       "    </tr>\n",
       "    <tr>\n",
       "      <th>4</th>\n",
       "      <td>QPR</td>\n",
       "      <td>HULL CITY</td>\n",
       "      <td>Away</td>\n",
       "    </tr>\n",
       "    <tr>\n",
       "      <th>...</th>\n",
       "      <td>...</td>\n",
       "      <td>...</td>\n",
       "      <td>...</td>\n",
       "    </tr>\n",
       "    <tr>\n",
       "      <th>2655</th>\n",
       "      <td>ARSENAL</td>\n",
       "      <td>BRIGHTON</td>\n",
       "      <td>Home</td>\n",
       "    </tr>\n",
       "    <tr>\n",
       "      <th>2656</th>\n",
       "      <td>SHEFFIELD UTD</td>\n",
       "      <td>BURNLEY</td>\n",
       "      <td>Home</td>\n",
       "    </tr>\n",
       "    <tr>\n",
       "      <th>2657</th>\n",
       "      <td>LEICESTER CITY</td>\n",
       "      <td>TOTTENHAM</td>\n",
       "      <td>Away</td>\n",
       "    </tr>\n",
       "    <tr>\n",
       "      <th>2658</th>\n",
       "      <td>WEST HAM</td>\n",
       "      <td>SOUTHAMPTON</td>\n",
       "      <td>Home</td>\n",
       "    </tr>\n",
       "    <tr>\n",
       "      <th>2659</th>\n",
       "      <td>LEEDS UTD</td>\n",
       "      <td>WEST BROM</td>\n",
       "      <td>Home</td>\n",
       "    </tr>\n",
       "  </tbody>\n",
       "</table>\n",
       "<p>2660 rows × 3 columns</p>\n",
       "</div>"
      ],
      "text/plain": [
       "           Home Team    Away Team Winner\n",
       "0            MAN UTD      SWANSEA   Away\n",
       "1          WEST BROM   SUNDERLAND   Draw\n",
       "2     LEICESTER CITY      EVERTON   Draw\n",
       "3           WEST HAM    TOTTENHAM   Away\n",
       "4                QPR    HULL CITY   Away\n",
       "...              ...          ...    ...\n",
       "2655         ARSENAL     BRIGHTON   Home\n",
       "2656   SHEFFIELD UTD      BURNLEY   Home\n",
       "2657  LEICESTER CITY    TOTTENHAM   Away\n",
       "2658        WEST HAM  SOUTHAMPTON   Home\n",
       "2659       LEEDS UTD    WEST BROM   Home\n",
       "\n",
       "[2660 rows x 3 columns]"
      ]
     },
     "execution_count": 111,
     "metadata": {},
     "output_type": "execute_result"
    }
   ],
   "source": [
    "import pandas as pd\n",
    "df = pd.read_csv('premierleague.csv')\n",
    "df = df[['Home Team', 'Away Team', 'Winner']]\n",
    "df"
   ]
  },
  {
   "cell_type": "markdown",
   "metadata": {},
   "source": [
    "### Encoding teams with sklearn lable encoder"
   ]
  },
  {
   "cell_type": "code",
   "execution_count": 112,
   "metadata": {},
   "outputs": [
    {
     "data": {
      "text/plain": [
       "LabelEncoder()"
      ]
     },
     "execution_count": 112,
     "metadata": {},
     "output_type": "execute_result"
    }
   ],
   "source": [
    "from sklearn.preprocessing import LabelEncoder\n",
    "teamEncoder = LabelEncoder()\n",
    "teamEncoder.fit(df['Home Team'])"
   ]
  },
  {
   "cell_type": "code",
   "execution_count": 113,
   "metadata": {},
   "outputs": [
    {
     "data": {
      "text/plain": [
       "LabelEncoder()"
      ]
     },
     "execution_count": 113,
     "metadata": {},
     "output_type": "execute_result"
    }
   ],
   "source": [
    "winnerEncoder = LabelEncoder()\n",
    "winnerEncoder.fit(df['Winner'])"
   ]
  },
  {
   "cell_type": "code",
   "execution_count": 114,
   "metadata": {},
   "outputs": [],
   "source": [
    "df['Home Team'] = teamEncoder.transform(df['Home Team'])\n",
    "df['Away Team'] = teamEncoder.transform(df['Away Team'])\n",
    "df['Winner'] = winnerEncoder.transform(df['Winner'])"
   ]
  },
  {
   "cell_type": "markdown",
   "metadata": {},
   "source": [
    "### Data preprocessing"
   ]
  },
  {
   "cell_type": "code",
   "execution_count": 115,
   "metadata": {},
   "outputs": [],
   "source": [
    "from sklearn.model_selection import train_test_split\n",
    "from tensorflow.keras.utils import to_categorical\n",
    "import numpy as np\n",
    "from sklearn.preprocessing import StandardScaler\n",
    "\n",
    "x = df.drop('Winner', axis=1)\n",
    "\n",
    "sc = StandardScaler()\n",
    "sc.fit(x)\n",
    "x = pd.DataFrame(sc.transform(x))\n",
    "\n",
    "y = df['Winner']\n",
    "y = to_categorical(y)\n",
    "\n",
    "x_train, x_test, y_train, y_test = train_test_split(x, y, test_size=0.2, random_state=32)\n"
   ]
  },
  {
   "cell_type": "markdown",
   "metadata": {},
   "source": [
    "### ML"
   ]
  },
  {
   "cell_type": "code",
   "execution_count": 116,
   "metadata": {},
   "outputs": [
    {
     "name": "stdout",
     "output_type": "stream",
     "text": [
      "Model: \"sequential_9\"\n",
      "_________________________________________________________________\n",
      " Layer (type)                Output Shape              Param #   \n",
      "=================================================================\n",
      " dense_27 (Dense)            (None, 8)                 24        \n",
      "                                                                 \n",
      " dense_28 (Dense)            (None, 6)                 54        \n",
      "                                                                 \n",
      " dense_29 (Dense)            (None, 3)                 21        \n",
      "                                                                 \n",
      "=================================================================\n",
      "Total params: 99\n",
      "Trainable params: 99\n",
      "Non-trainable params: 0\n",
      "_________________________________________________________________\n"
     ]
    }
   ],
   "source": [
    "from keras.models import Sequential\n",
    "from keras.layers import Dense\n",
    "\n",
    "model = Sequential()\n",
    "model.add(Dense(8, activation='relu', input_shape=(2, )))\n",
    "model.add(Dense(6, activation='relu'))\n",
    "model.add(Dense(3, activation='softmax'))\n",
    "model.compile(loss='categorical_crossentropy', optimizer='adam', metrics=['accuracy'])\n",
    "model.summary()"
   ]
  },
  {
   "cell_type": "code",
   "execution_count": 117,
   "metadata": {},
   "outputs": [
    {
     "name": "stdout",
     "output_type": "stream",
     "text": [
      "Epoch 1/10\n",
      "54/54 [==============================] - 0s 3ms/step - loss: 1.1371 - accuracy: 0.2726 - val_loss: 1.0996 - val_accuracy: 0.3233\n",
      "Epoch 2/10\n",
      "54/54 [==============================] - 0s 1ms/step - loss: 1.0947 - accuracy: 0.3764 - val_loss: 1.0772 - val_accuracy: 0.4248\n",
      "Epoch 3/10\n",
      "54/54 [==============================] - 0s 1ms/step - loss: 1.0797 - accuracy: 0.4121 - val_loss: 1.0687 - val_accuracy: 0.4530\n",
      "Epoch 4/10\n",
      "54/54 [==============================] - 0s 1ms/step - loss: 1.0737 - accuracy: 0.4319 - val_loss: 1.0641 - val_accuracy: 0.4680\n",
      "Epoch 5/10\n",
      "54/54 [==============================] - 0s 1ms/step - loss: 1.0703 - accuracy: 0.4403 - val_loss: 1.0626 - val_accuracy: 0.4680\n",
      "Epoch 6/10\n",
      "54/54 [==============================] - 0s 1ms/step - loss: 1.0684 - accuracy: 0.4403 - val_loss: 1.0610 - val_accuracy: 0.4680\n",
      "Epoch 7/10\n",
      "54/54 [==============================] - 0s 1ms/step - loss: 1.0669 - accuracy: 0.4403 - val_loss: 1.0601 - val_accuracy: 0.4680\n",
      "Epoch 8/10\n",
      "54/54 [==============================] - 0s 1ms/step - loss: 1.0660 - accuracy: 0.4403 - val_loss: 1.0593 - val_accuracy: 0.4680\n",
      "Epoch 9/10\n",
      "54/54 [==============================] - 0s 1ms/step - loss: 1.0654 - accuracy: 0.4403 - val_loss: 1.0588 - val_accuracy: 0.4680\n",
      "Epoch 10/10\n",
      "54/54 [==============================] - 0s 1ms/step - loss: 1.0644 - accuracy: 0.4403 - val_loss: 1.0581 - val_accuracy: 0.4680\n"
     ]
    },
    {
     "data": {
      "text/plain": [
       "<keras.callbacks.History at 0x25d2a94e0a0>"
      ]
     },
     "execution_count": 117,
     "metadata": {},
     "output_type": "execute_result"
    }
   ],
   "source": [
    "model.fit(x_train, y_train, epochs=10, validation_data=[x_test, y_test], batch_size=40)"
   ]
  },
  {
   "cell_type": "markdown",
   "metadata": {},
   "source": [
    "## Predicting a value"
   ]
  },
  {
   "cell_type": "code",
   "execution_count": 119,
   "metadata": {},
   "outputs": [
    {
     "name": "stderr",
     "output_type": "stream",
     "text": [
      "C:\\Users\\KarimKohel\\miniconda3\\lib\\site-packages\\sklearn\\base.py:450: UserWarning: X does not have valid feature names, but StandardScaler was fitted with feature names\n",
      "  warnings.warn(\n"
     ]
    },
    {
     "data": {
      "text/plain": [
       "array([[0.02078614, 0.77524616]])"
      ]
     },
     "execution_count": 119,
     "metadata": {},
     "output_type": "execute_result"
    }
   ],
   "source": [
    "xpred = teamEncoder.transform(['MAN CITY', 'SOUTHAMPTON'])\n",
    "xpred = sc.transform([xpred])\n",
    "y = model.predict(xpred)\n",
    "y = y.argmax(axis=-1)\n",
    "winnerEncoder.inverse_transform(y)"
   ]
  },
  {
   "cell_type": "code",
   "execution_count": 120,
   "metadata": {},
   "outputs": [
    {
     "data": {
      "text/plain": [
       "array(['Home'], dtype=object)"
      ]
     },
     "execution_count": 120,
     "metadata": {},
     "output_type": "execute_result"
    }
   ],
   "source": [
    "y = model.predict(xpred)\n",
    "y = y.argmax(axis=-1)\n",
    "winnerEncoder.inverse_transform(y)"
   ]
  }
 ],
 "metadata": {
  "interpreter": {
   "hash": "8c84bad675181d289ff3ad5b527e6a868cf674452bd2259a6d19a1987661bdef"
  },
  "kernelspec": {
   "display_name": "Python 3.9.5 64-bit ('base': conda)",
   "language": "python",
   "name": "python3"
  },
  "language_info": {
   "codemirror_mode": {
    "name": "ipython",
    "version": 3
   },
   "file_extension": ".py",
   "mimetype": "text/x-python",
   "name": "python",
   "nbconvert_exporter": "python",
   "pygments_lexer": "ipython3",
   "version": "3.9.5"
  },
  "orig_nbformat": 4
 },
 "nbformat": 4,
 "nbformat_minor": 2
}
