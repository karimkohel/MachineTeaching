{
 "cells": [
  {
   "cell_type": "markdown",
   "metadata": {},
   "source": [
    "# **Winning the Premier League**\n",
    "---\n",
    "#### _Data analysis_\n",
    "Turns out we don't need to analyze anything as the only data provided prior to the match actually happening is the team names\n",
    "\n",
    "#### _Approach_\n",
    "Dropping all the data in favour of the actual team names is the only logical approach as the model can only take in team names during production to predict the winner of a match that is yet to come. "
   ]
  },
  {
   "cell_type": "markdown",
   "metadata": {},
   "source": [
    "### _Reading data and dropping unwanted columns_"
   ]
  },
  {
   "cell_type": "code",
   "execution_count": 170,
   "metadata": {},
   "outputs": [
    {
     "data": {
      "text/html": [
       "<div>\n",
       "<style scoped>\n",
       "    .dataframe tbody tr th:only-of-type {\n",
       "        vertical-align: middle;\n",
       "    }\n",
       "\n",
       "    .dataframe tbody tr th {\n",
       "        vertical-align: top;\n",
       "    }\n",
       "\n",
       "    .dataframe thead th {\n",
       "        text-align: right;\n",
       "    }\n",
       "</style>\n",
       "<table border=\"1\" class=\"dataframe\">\n",
       "  <thead>\n",
       "    <tr style=\"text-align: right;\">\n",
       "      <th></th>\n",
       "      <th>Home Team</th>\n",
       "      <th>Away Team</th>\n",
       "      <th>Winner</th>\n",
       "    </tr>\n",
       "  </thead>\n",
       "  <tbody>\n",
       "    <tr>\n",
       "      <th>0</th>\n",
       "      <td>MAN UTD</td>\n",
       "      <td>SWANSEA</td>\n",
       "      <td>Away</td>\n",
       "    </tr>\n",
       "    <tr>\n",
       "      <th>1</th>\n",
       "      <td>WEST BROM</td>\n",
       "      <td>SUNDERLAND</td>\n",
       "      <td>Draw</td>\n",
       "    </tr>\n",
       "    <tr>\n",
       "      <th>2</th>\n",
       "      <td>LEICESTER CITY</td>\n",
       "      <td>EVERTON</td>\n",
       "      <td>Draw</td>\n",
       "    </tr>\n",
       "    <tr>\n",
       "      <th>3</th>\n",
       "      <td>WEST HAM</td>\n",
       "      <td>TOTTENHAM</td>\n",
       "      <td>Away</td>\n",
       "    </tr>\n",
       "    <tr>\n",
       "      <th>4</th>\n",
       "      <td>QPR</td>\n",
       "      <td>HULL CITY</td>\n",
       "      <td>Away</td>\n",
       "    </tr>\n",
       "    <tr>\n",
       "      <th>...</th>\n",
       "      <td>...</td>\n",
       "      <td>...</td>\n",
       "      <td>...</td>\n",
       "    </tr>\n",
       "    <tr>\n",
       "      <th>2655</th>\n",
       "      <td>ARSENAL</td>\n",
       "      <td>BRIGHTON</td>\n",
       "      <td>Home</td>\n",
       "    </tr>\n",
       "    <tr>\n",
       "      <th>2656</th>\n",
       "      <td>SHEFFIELD UTD</td>\n",
       "      <td>BURNLEY</td>\n",
       "      <td>Home</td>\n",
       "    </tr>\n",
       "    <tr>\n",
       "      <th>2657</th>\n",
       "      <td>LEICESTER CITY</td>\n",
       "      <td>TOTTENHAM</td>\n",
       "      <td>Away</td>\n",
       "    </tr>\n",
       "    <tr>\n",
       "      <th>2658</th>\n",
       "      <td>WEST HAM</td>\n",
       "      <td>SOUTHAMPTON</td>\n",
       "      <td>Home</td>\n",
       "    </tr>\n",
       "    <tr>\n",
       "      <th>2659</th>\n",
       "      <td>LEEDS UTD</td>\n",
       "      <td>WEST BROM</td>\n",
       "      <td>Home</td>\n",
       "    </tr>\n",
       "  </tbody>\n",
       "</table>\n",
       "<p>2660 rows × 3 columns</p>\n",
       "</div>"
      ],
      "text/plain": [
       "           Home Team    Away Team Winner\n",
       "0            MAN UTD      SWANSEA   Away\n",
       "1          WEST BROM   SUNDERLAND   Draw\n",
       "2     LEICESTER CITY      EVERTON   Draw\n",
       "3           WEST HAM    TOTTENHAM   Away\n",
       "4                QPR    HULL CITY   Away\n",
       "...              ...          ...    ...\n",
       "2655         ARSENAL     BRIGHTON   Home\n",
       "2656   SHEFFIELD UTD      BURNLEY   Home\n",
       "2657  LEICESTER CITY    TOTTENHAM   Away\n",
       "2658        WEST HAM  SOUTHAMPTON   Home\n",
       "2659       LEEDS UTD    WEST BROM   Home\n",
       "\n",
       "[2660 rows x 3 columns]"
      ]
     },
     "execution_count": 170,
     "metadata": {},
     "output_type": "execute_result"
    }
   ],
   "source": [
    "import pandas as pd\n",
    "df = pd.read_csv('premierleague.csv')\n",
    "df = df[['Home Team', 'Away Team', 'Winner']]\n",
    "df"
   ]
  },
  {
   "cell_type": "markdown",
   "metadata": {},
   "source": [
    "### _Encoding teams and output with sklearn lable encoder_"
   ]
  },
  {
   "cell_type": "code",
   "execution_count": 171,
   "metadata": {},
   "outputs": [
    {
     "data": {
      "text/plain": [
       "LabelEncoder()"
      ]
     },
     "execution_count": 171,
     "metadata": {},
     "output_type": "execute_result"
    }
   ],
   "source": [
    "from sklearn.preprocessing import LabelEncoder\n",
    "teamEncoder = LabelEncoder()\n",
    "teamEncoder.fit(df['Home Team'])"
   ]
  },
  {
   "cell_type": "code",
   "execution_count": 172,
   "metadata": {},
   "outputs": [
    {
     "data": {
      "text/plain": [
       "LabelEncoder()"
      ]
     },
     "execution_count": 172,
     "metadata": {},
     "output_type": "execute_result"
    }
   ],
   "source": [
    "winnerEncoder = LabelEncoder()\n",
    "winnerEncoder.fit(df['Winner'].values)"
   ]
  },
  {
   "cell_type": "code",
   "execution_count": 173,
   "metadata": {},
   "outputs": [],
   "source": [
    "df['Home Team'] = teamEncoder.transform(df['Home Team'])\n",
    "df['Away Team'] = teamEncoder.transform(df['Away Team'])\n",
    "df['Winner'] = winnerEncoder.transform(df['Winner'])"
   ]
  },
  {
   "cell_type": "markdown",
   "metadata": {},
   "source": [
    "### _Data processing_"
   ]
  },
  {
   "cell_type": "code",
   "execution_count": 174,
   "metadata": {},
   "outputs": [
    {
     "name": "stderr",
     "output_type": "stream",
     "text": [
      "C:\\Users\\KarimKohel\\miniconda3\\lib\\site-packages\\sklearn\\base.py:443: UserWarning: X has feature names, but StandardScaler was fitted without feature names\n",
      "  warnings.warn(\n"
     ]
    }
   ],
   "source": [
    "from sklearn.model_selection import train_test_split\n",
    "from tensorflow.keras.utils import to_categorical\n",
    "import numpy as np\n",
    "from sklearn.preprocessing import StandardScaler\n",
    "\n",
    "x = df.drop('Winner', axis=1)\n",
    "\n",
    "sc = StandardScaler()\n",
    "sc.fit(x.values)\n",
    "x = pd.DataFrame(sc.transform(x))\n",
    "\n",
    "y = df['Winner']\n",
    "y = to_categorical(y)\n",
    "\n",
    "x_train, x_test, y_train, y_test = train_test_split(x, y, test_size=0.2, random_state=32)\n"
   ]
  },
  {
   "cell_type": "markdown",
   "metadata": {},
   "source": [
    "### _Network_"
   ]
  },
  {
   "cell_type": "code",
   "execution_count": 175,
   "metadata": {},
   "outputs": [
    {
     "name": "stdout",
     "output_type": "stream",
     "text": [
      "Model: \"sequential_15\"\n",
      "_________________________________________________________________\n",
      " Layer (type)                Output Shape              Param #   \n",
      "=================================================================\n",
      " dense_45 (Dense)            (None, 8)                 24        \n",
      "                                                                 \n",
      " dense_46 (Dense)            (None, 6)                 54        \n",
      "                                                                 \n",
      " dense_47 (Dense)            (None, 3)                 21        \n",
      "                                                                 \n",
      "=================================================================\n",
      "Total params: 99\n",
      "Trainable params: 99\n",
      "Non-trainable params: 0\n",
      "_________________________________________________________________\n"
     ]
    }
   ],
   "source": [
    "from keras.models import Sequential\n",
    "from keras.layers import Dense\n",
    "\n",
    "model = Sequential()\n",
    "model.add(Dense(8, activation='relu', input_shape=(2, )))\n",
    "model.add(Dense(6, activation='relu'))\n",
    "model.add(Dense(3, activation='softmax'))\n",
    "model.compile(loss='categorical_crossentropy', optimizer='adam', metrics=['accuracy'])\n",
    "model.summary()"
   ]
  },
  {
   "cell_type": "code",
   "execution_count": 176,
   "metadata": {},
   "outputs": [
    {
     "name": "stdout",
     "output_type": "stream",
     "text": [
      "Epoch 1/10\n",
      "54/54 [==============================] - 0s 3ms/step - loss: 1.1258 - accuracy: 0.3769 - val_loss: 1.1127 - val_accuracy: 0.3440\n",
      "Epoch 2/10\n",
      "54/54 [==============================] - 0s 1ms/step - loss: 1.0931 - accuracy: 0.3830 - val_loss: 1.0918 - val_accuracy: 0.3910\n",
      "Epoch 3/10\n",
      "54/54 [==============================] - 0s 1ms/step - loss: 1.0810 - accuracy: 0.3980 - val_loss: 1.0816 - val_accuracy: 0.4192\n",
      "Epoch 4/10\n",
      "54/54 [==============================] - 0s 1ms/step - loss: 1.0749 - accuracy: 0.4140 - val_loss: 1.0750 - val_accuracy: 0.4398\n",
      "Epoch 5/10\n",
      "54/54 [==============================] - 0s 1ms/step - loss: 1.0719 - accuracy: 0.4323 - val_loss: 1.0711 - val_accuracy: 0.4549\n",
      "Epoch 6/10\n",
      "54/54 [==============================] - 0s 1ms/step - loss: 1.0698 - accuracy: 0.4323 - val_loss: 1.0684 - val_accuracy: 0.4605\n",
      "Epoch 7/10\n",
      "54/54 [==============================] - 0s 1ms/step - loss: 1.0683 - accuracy: 0.4328 - val_loss: 1.0664 - val_accuracy: 0.4643\n",
      "Epoch 8/10\n",
      "54/54 [==============================] - 0s 1ms/step - loss: 1.0673 - accuracy: 0.4370 - val_loss: 1.0650 - val_accuracy: 0.4699\n",
      "Epoch 9/10\n",
      "54/54 [==============================] - 0s 1ms/step - loss: 1.0664 - accuracy: 0.4408 - val_loss: 1.0634 - val_accuracy: 0.4680\n",
      "Epoch 10/10\n",
      "54/54 [==============================] - 0s 1ms/step - loss: 1.0656 - accuracy: 0.4403 - val_loss: 1.0628 - val_accuracy: 0.4680\n"
     ]
    },
    {
     "data": {
      "text/plain": [
       "<keras.callbacks.History at 0x25d2e04e100>"
      ]
     },
     "execution_count": 176,
     "metadata": {},
     "output_type": "execute_result"
    }
   ],
   "source": [
    "model.fit(x_train, y_train, epochs=10, validation_data=[x_test, y_test], batch_size=40)"
   ]
  },
  {
   "cell_type": "markdown",
   "metadata": {},
   "source": [
    "## _Predicting a value_"
   ]
  },
  {
   "cell_type": "code",
   "execution_count": 177,
   "metadata": {},
   "outputs": [
    {
     "data": {
      "text/plain": [
       "'Home'"
      ]
     },
     "execution_count": 177,
     "metadata": {},
     "output_type": "execute_result"
    }
   ],
   "source": [
    "xpred = teamEncoder.transform(['MAN CITY', 'SOUTHAMPTON'])\n",
    "xpred = sc.transform([xpred])\n",
    "y = model.predict(xpred)\n",
    "y = y.argmax(axis=-1)\n",
    "value = winnerEncoder.inverse_transform(y)[0]\n",
    "value"
   ]
  }
 ],
 "metadata": {
  "interpreter": {
   "hash": "8c84bad675181d289ff3ad5b527e6a868cf674452bd2259a6d19a1987661bdef"
  },
  "kernelspec": {
   "display_name": "Python 3.9.5 64-bit ('base': conda)",
   "language": "python",
   "name": "python3"
  },
  "language_info": {
   "codemirror_mode": {
    "name": "ipython",
    "version": 3
   },
   "file_extension": ".py",
   "mimetype": "text/x-python",
   "name": "python",
   "nbconvert_exporter": "python",
   "pygments_lexer": "ipython3",
   "version": "3.9.5"
  },
  "orig_nbformat": 4
 },
 "nbformat": 4,
 "nbformat_minor": 2
}
