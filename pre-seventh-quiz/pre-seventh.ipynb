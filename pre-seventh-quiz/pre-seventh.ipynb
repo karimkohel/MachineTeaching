{
 "cells": [
  {
   "cell_type": "markdown",
   "metadata": {},
   "source": [
    "## My pre-midterm project for the NN course \n",
    "I am definitely not pushing this code to Github until the project is submitted.\n",
    "sorry to disappoint you, cheating piece of shit."
   ]
  }
 ],
 "metadata": {
  "interpreter": {
   "hash": "feb8c4f14edba4dfbba8676656b16def1fe382808464bd63d7ec3ba0ada06f6f"
  },
  "kernelspec": {
   "display_name": "Python 3.7.6 64-bit ('base': conda)",
   "name": "python3"
  },
  "language_info": {
   "name": "python",
   "version": "3.7.6"
  },
  "orig_nbformat": 4
 },
 "nbformat": 4,
 "nbformat_minor": 2
}
