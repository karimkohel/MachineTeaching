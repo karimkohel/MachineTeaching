{
 "cells": [
  {
   "cell_type": "markdown",
   "metadata": {},
   "source": [
    "# **Object Classification**\n",
    "---"
   ]
  },
  {
   "cell_type": "markdown",
   "metadata": {},
   "source": [
    "### _Loading the dataset_"
   ]
  },
  {
   "cell_type": "code",
   "execution_count": 6,
   "metadata": {},
   "outputs": [],
   "source": [
    "import tensorflow as tf\n",
    "from tensorflow.keras import datasets, layers, models"
   ]
  },
  {
   "cell_type": "code",
   "execution_count": 7,
   "metadata": {},
   "outputs": [
    {
     "data": {
      "text/plain": [
       "(50000, 32, 32, 3)"
      ]
     },
     "execution_count": 7,
     "metadata": {},
     "output_type": "execute_result"
    }
   ],
   "source": [
    "\n",
    "(X_train, y_train), (X_test,y_test) = datasets.cifar10.load_data()\n",
    "X_train.shape"
   ]
  },
  {
   "cell_type": "markdown",
   "metadata": {},
   "source": [
    "Reshaping the labels because as every numpy related project, it was in a 2D array for no reason"
   ]
  },
  {
   "cell_type": "code",
   "execution_count": 8,
   "metadata": {},
   "outputs": [],
   "source": [
    "y_train = y_train.reshape(-1, )\n",
    "y_test = y_test.reshape(-1, )"
   ]
  },
  {
   "cell_type": "markdown",
   "metadata": {},
   "source": [
    "Naming classes"
   ]
  },
  {
   "cell_type": "code",
   "execution_count": 9,
   "metadata": {},
   "outputs": [],
   "source": [
    "classes = [\"airplane\",\"automobile\",\"bird\",\"cat\",\"deer\",\"dog\",\"frog\",\"horse\",\"ship\",\"truck\"]"
   ]
  },
  {
   "cell_type": "markdown",
   "metadata": {},
   "source": [
    "#### Normalizing the data (or scalling it)\n",
    "could be done by 2 ways:\n",
    "- scaling it with sklearn's standard scaler\n",
    "- using the fact that each value is known to be from 0 to 255 and deviding by that to scale it down between 0 & 1\n",
    "\n",
    "we chose the latter"
   ]
  },
  {
   "cell_type": "code",
   "execution_count": 10,
   "metadata": {},
   "outputs": [],
   "source": [
    "X_train = X_train / 255.0\n",
    "X_test = X_test / 255.0"
   ]
  },
  {
   "cell_type": "markdown",
   "metadata": {},
   "source": [
    "constructing the CNN with what looks like an unhealthy amount of weights to calculate\n",
    "\n",
    "_*thinking of re-installing cuda now*_"
   ]
  },
  {
   "cell_type": "code",
   "execution_count": 13,
   "metadata": {},
   "outputs": [
    {
     "name": "stdout",
     "output_type": "stream",
     "text": [
      "Model: \"sequential\"\n",
      "_________________________________________________________________\n",
      " Layer (type)                Output Shape              Param #   \n",
      "=================================================================\n",
      " conv2d (Conv2D)             (None, 30, 30, 32)        896       \n",
      "                                                                 \n",
      " max_pooling2d (MaxPooling2D  (None, 15, 15, 32)       0         \n",
      " )                                                               \n",
      "                                                                 \n",
      " conv2d_1 (Conv2D)           (None, 13, 13, 64)        18496     \n",
      "                                                                 \n",
      " max_pooling2d_1 (MaxPooling  (None, 6, 6, 64)         0         \n",
      " 2D)                                                             \n",
      "                                                                 \n",
      " flatten (Flatten)           (None, 2304)              0         \n",
      "                                                                 \n",
      " dense (Dense)               (None, 64)                147520    \n",
      "                                                                 \n",
      " dropout (Dropout)           (None, 64)                0         \n",
      "                                                                 \n",
      " dense_1 (Dense)             (None, 64)                4160      \n",
      "                                                                 \n",
      " dense_2 (Dense)             (None, 10)                650       \n",
      "                                                                 \n",
      "=================================================================\n",
      "Total params: 171,722\n",
      "Trainable params: 171,722\n",
      "Non-trainable params: 0\n",
      "_________________________________________________________________\n"
     ]
    }
   ],
   "source": [
    "model = models.Sequential([\n",
    "    layers.Conv2D(filters=32, kernel_size=(3, 3), activation='relu', input_shape=(32, 32, 3)),\n",
    "    layers.MaxPooling2D((2, 2)),\n",
    "    \n",
    "    layers.Conv2D(filters=64, kernel_size=(3, 3), activation='relu'),\n",
    "    layers.MaxPooling2D((2, 2)),\n",
    "    \n",
    "    layers.Flatten(),\n",
    "    layers.Dense(64, activation='relu'),\n",
    "    layers.Dropout(0.25),\n",
    "    layers.Dense(64, activation='relu'),\n",
    "    layers.Dense(10, activation='softmax')\n",
    "])\n",
    "model.compile(optimizer='adam', loss='sparse_categorical_crossentropy', metrics=['accuracy']) # i have a wide screen, deal with it\n",
    "model.summary()"
   ]
  },
  {
   "cell_type": "markdown",
   "metadata": {},
   "source": [
    "Training time (using gpu and all)"
   ]
  },
  {
   "cell_type": "code",
   "execution_count": 16,
   "metadata": {},
   "outputs": [
    {
     "name": "stdout",
     "output_type": "stream",
     "text": [
      "Epoch 1/15\n",
      "1563/1563 [==============================] - 9s 6ms/step - loss: 0.8994 - accuracy: 0.6831 - val_loss: 0.9264 - val_accuracy: 0.6808\n",
      "Epoch 2/15\n",
      "1563/1563 [==============================] - 9s 5ms/step - loss: 0.8684 - accuracy: 0.6940 - val_loss: 0.9280 - val_accuracy: 0.6820\n",
      "Epoch 3/15\n",
      "1563/1563 [==============================] - 9s 5ms/step - loss: 0.8398 - accuracy: 0.7061 - val_loss: 0.8973 - val_accuracy: 0.6934\n",
      "Epoch 4/15\n",
      "1563/1563 [==============================] - 9s 5ms/step - loss: 0.8089 - accuracy: 0.7160 - val_loss: 0.8865 - val_accuracy: 0.6904 -\n",
      "Epoch 5/15\n",
      "1563/1563 [==============================] - 9s 6ms/step - loss: 0.7801 - accuracy: 0.7253 - val_loss: 0.9012 - val_accuracy: 0.6891\n",
      "Epoch 6/15\n",
      "1563/1563 [==============================] - 9s 5ms/step - loss: 0.7622 - accuracy: 0.7318 - val_loss: 0.9032 - val_accuracy: 0.6896\n",
      "Epoch 7/15\n",
      "1563/1563 [==============================] - 9s 5ms/step - loss: 0.7374 - accuracy: 0.7399 - val_loss: 0.8738 - val_accuracy: 0.7006\n",
      "Epoch 8/15\n",
      "1563/1563 [==============================] - 9s 6ms/step - loss: 0.7185 - accuracy: 0.7479 - val_loss: 0.8974 - val_accuracy: 0.6978\n",
      "Epoch 9/15\n",
      "1563/1563 [==============================] - 9s 6ms/step - loss: 0.7041 - accuracy: 0.7521 - val_loss: 0.8949 - val_accuracy: 0.6989\n",
      "Epoch 10/15\n",
      "1563/1563 [==============================] - 9s 6ms/step - loss: 0.6866 - accuracy: 0.7592 - val_loss: 0.9164 - val_accuracy: 0.6869\n",
      "Epoch 11/15\n",
      "1563/1563 [==============================] - 9s 6ms/step - loss: 0.6734 - accuracy: 0.7650 - val_loss: 0.8992 - val_accuracy: 0.6909\n",
      "Epoch 12/15\n",
      "1563/1563 [==============================] - 9s 6ms/step - loss: 0.6558 - accuracy: 0.7701 - val_loss: 0.9165 - val_accuracy: 0.6880\n",
      "Epoch 13/15\n",
      "1563/1563 [==============================] - 9s 5ms/step - loss: 0.6432 - accuracy: 0.7737 - val_loss: 0.9122 - val_accuracy: 0.6950\n",
      "Epoch 14/15\n",
      "1563/1563 [==============================] - 9s 6ms/step - loss: 0.6307 - accuracy: 0.7772 - val_loss: 0.9105 - val_accuracy: 0.6978\n",
      "Epoch 15/15\n",
      "1563/1563 [==============================] - 9s 6ms/step - loss: 0.6213 - accuracy: 0.7815 - val_loss: 0.8917 - val_accuracy: 0.6988\n"
     ]
    },
    {
     "data": {
      "text/plain": [
       "<keras.callbacks.History at 0x2379435c910>"
      ]
     },
     "execution_count": 16,
     "metadata": {},
     "output_type": "execute_result"
    }
   ],
   "source": [
    "model.fit(X_train, y_train, epochs=15, validation_data=[X_test, y_test], shuffle=True)"
   ]
  },
  {
   "cell_type": "markdown",
   "metadata": {},
   "source": [
    "#### _Predict a value_\n",
    "Visualize it first"
   ]
  },
  {
   "cell_type": "code",
   "execution_count": 17,
   "metadata": {},
   "outputs": [
    {
     "data": {
      "image/png": "[encoded data removed]",
      "text/plain": [
       "<Figure size 1080x144 with 1 Axes>"
      ]
     },
     "metadata": {
      "needs_background": "light"
     },
     "output_type": "display_data"
    }
   ],
   "source": [
    "import matplotlib.pyplot as plt\n",
    "\n",
    "def plot_sample(X, y, index):\n",
    "    plt.figure(figsize = (15,2))\n",
    "    plt.imshow(X[index])\n",
    "    plt.xlabel(classes[y[index]])\n",
    "\n",
    "plot_sample(X_test, y_test, 2)"
   ]
  },
  {
   "cell_type": "markdown",
   "metadata": {},
   "source": [
    "Finally predicting"
   ]
  },
  {
   "cell_type": "code",
   "execution_count": 19,
   "metadata": {},
   "outputs": [
    {
     "name": "stdout",
     "output_type": "stream",
     "text": [
      "[3 8 8 0 6]\n",
      "[3, 1, 8, 0, 6]\n"
     ]
    }
   ],
   "source": [
    "import numpy as np\n",
    "outputY = model.predict(X_test[:5])\n",
    "y_classes = [np.argmax(element) for element in outputY]\n",
    "print(y_test[:5])\n",
    "print(y_classes)"
   ]
  }
 ],
 "metadata": {
  "interpreter": {
   "hash": "8c84bad675181d289ff3ad5b527e6a868cf674452bd2259a6d19a1987661bdef"
  },
  "kernelspec": {
   "display_name": "Python 3.9.5 64-bit ('base': conda)",
   "language": "python",
   "name": "python3"
  },
  "language_info": {
   "codemirror_mode": {
    "name": "ipython",
    "version": 3
   },
   "file_extension": ".py",
   "mimetype": "text/x-python",
   "name": "python",
   "nbconvert_exporter": "python",
   "pygments_lexer": "ipython3",
   "version": "3.9.5"
  },
  "orig_nbformat": 4
 },
 "nbformat": 4,
 "nbformat_minor": 2
}
